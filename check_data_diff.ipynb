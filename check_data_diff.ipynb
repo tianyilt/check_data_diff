{
 "cells": [
  {
   "cell_type": "code",
   "execution_count": 1,
   "id": "initial_id",
   "metadata": {
    "collapsed": true,
    "ExecuteTime": {
     "end_time": "2024-05-24T09:08:53.256436Z",
     "start_time": "2024-05-24T09:08:53.255385Z"
    }
   },
   "outputs": [],
   "source": [
    "\"\"\"\n",
    "这个脚本用来对比dedup/k12/release-20240523/KSJ_XES和replace_data_3\n",
    "作为展示如果数据结构不一致的情况下的处理方法\n",
    "\"\"\"\n",
    "import os\n",
    "import json\n",
    "from tqdm import tqdm\n",
    "import difflib\n",
    "from concurrent.futures import ThreadPoolExecutor, as_completed\n",
    "from difflib import SequenceMatcher\n",
    "\n",
    "dir1 = \"/fs-computility/llm/shared/hongjiawei/zk_train_internlm/datasets/cn_exam/dedup/k12/release-20240523/KSJ_XES\"\n",
    "dir2 = \"/fs-computility/llm/shared/huhanglei/math_equation/data_filter/replace_data_3\"\n",
    "\n",
    "\n",
    "def compare_fields(data1_content, data2_content):\n",
    "\tdifferences = {}\n",
    "\tif data1_content['question_list'] != data2_content['question_list']:\n",
    "\t\tdifferences['question_list'] = {\n",
    "\t\t\t'dir1': data1_content['question_list'],\n",
    "\t\t\t'dir2': data2_content['question_list'],\n",
    "\t\t\t'diff': list(difflib.unified_diff(\n",
    "\t\t\t\tdata1_content['question_list'],\n",
    "\t\t\t\tdata2_content['question_list'],\n",
    "\t\t\t\tlineterm=''\n",
    "\t\t\t))\n",
    "\t\t}\n",
    "\tif data1_content['q_main'] != data2_content['q_main']:\n",
    "\t\tdifferences['q_main'] = {\n",
    "\t\t\t'dir1': data1_content['q_main'],\n",
    "\t\t\t'dir2': data2_content['q_main'],\n",
    "\t\t\t'diff': list(difflib.unified_diff(\n",
    "\t\t\t\tdata1_content['q_main'],\n",
    "\t\t\t\tdata2_content['q_main'],\n",
    "\t\t\t\tlineterm=''\n",
    "\t\t\t))\n",
    "\t\t}\n",
    "\treturn differences\n",
    "\n",
    "\n",
    "def read_jsonl(file_path, progress_bar):\n",
    "\t\"\"\"\n",
    "\tRead jsonl file and update the progress bar.\n",
    "\t:param file_path: Path to the jsonl file.\n",
    "\t:param progress_bar: tqdm progress bar instance.\n",
    "\t:return: List of data from the jsonl file.\n",
    "\t\"\"\"\n",
    "\tdata = []\n",
    "\twith open(file_path, 'r', encoding='utf-8') as file:\n",
    "\t\tfor line in file:\n",
    "\t\t\tif 'null\\n' not in line:\n",
    "\t\t\t\tdata.append(json.loads(line))\n",
    "\t\t\tprogress_bar.update(1)\n",
    "\treturn data\n",
    "\n",
    "\n",
    "def read_all_jsonl(dir, workers=10):\n",
    "\t\"\"\"\n",
    "\tRead all jsonl files in a directory using multiple threads.\n",
    "\t:param dir: Directory containing jsonl files.\n",
    "\t:param workers: Number of worker threads.\n",
    "\t:return: List of data from all jsonl files.\n",
    "\t\"\"\"\n",
    "\tfiles = [os.path.join(dir, f) for f in os.listdir(dir) if f.endswith(\"jsonl\")]\n",
    "\ttotal_lines = sum(sum(1 for _ in open(file, 'r', encoding='utf-8')) for file in files)\n",
    "\tdata = []\n",
    "\n",
    "\twith tqdm(total=total_lines, desc=\"Reading JSONL files\", unit=\"line\") as progress_bar:\n",
    "\t\twith ThreadPoolExecutor(max_workers=workers) as executor:\n",
    "\t\t\tfuture_to_file = {executor.submit(read_jsonl, file, progress_bar): file for file in files}\n",
    "\t\t\tfor future in as_completed(future_to_file):\n",
    "\t\t\t\tdata.extend(future.result())\n",
    "\n",
    "\treturn data\n",
    "\n"
   ]
  },
  {
   "cell_type": "code",
   "execution_count": 2,
   "outputs": [
    {
     "name": "stderr",
     "output_type": "stream",
     "text": [
      "Reading JSONL files: 100%|██████████| 4618909/4618909 [06:56<00:00, 11093.57line/s]\n",
      "Reading JSONL files:  39%|███▉      | 2489862/6343419 [02:41<1:12:53, 881.10line/s] IOStream.flush timed out\n",
      "Reading JSONL files: 100%|██████████| 6343419/6343419 [07:52<00:00, 13412.29line/s]  \n"
     ]
    }
   ],
   "source": [
    "data1 = read_all_jsonl(dir1, workers=30)\n",
    "data2 = read_all_jsonl(dir2, workers=30)"
   ],
   "metadata": {
    "collapsed": false,
    "ExecuteTime": {
     "end_time": "2024-05-24T09:26:00.481052Z",
     "start_time": "2024-05-24T09:08:55.076021Z"
    }
   },
   "id": "c02270c8049560d8"
  },
  {
   "cell_type": "code",
   "execution_count": 4,
   "outputs": [
    {
     "name": "stderr",
     "output_type": "stream",
     "text": [
      "100%|██████████| 4618909/4618909 [00:05<00:00, 921351.23it/s]\n",
      "100%|██████████| 6343419/6343419 [00:08<00:00, 790237.77it/s]\n"
     ]
    }
   ],
   "source": [
    "# 初始化变量\n",
    "exam_problem_id1 = []\n",
    "exam_problem_id2 = []\n",
    "exam_problem2data1 = {}\n",
    "exam_problem2data2 = {}\n",
    "# 单次遍历完成所有初始化操作\n",
    "for d in tqdm(data1):\n",
    "\tkey = f\"{d['id']}\"\n",
    "\texam_problem_id1.append(key)\n",
    "\texam_problem2data1[key] = d\n",
    "\n",
    "for d in tqdm(data2):\n",
    "\tkey = f\"{d['exam_id']}_{d['problem_id']}\"\n",
    "\texam_problem_id2.append(key)\n",
    "\texam_problem2data2[key] = d\n",
    "output_path = \"output/diff_xes_clean_0524.jsonl\"\n",
    "# 交集\n",
    "intersection = set(exam_problem_id1) & set(exam_problem_id2)"
   ],
   "metadata": {
    "collapsed": false,
    "ExecuteTime": {
     "end_time": "2024-05-24T09:30:29.653168Z",
     "start_time": "2024-05-24T09:30:14.478720Z"
    }
   },
   "id": "8a463464a45f4f3"
  },
  {
   "cell_type": "code",
   "execution_count": 5,
   "outputs": [
    {
     "data": {
      "text/plain": "3848141"
     },
     "execution_count": 5,
     "metadata": {},
     "output_type": "execute_result"
    }
   ],
   "source": [
    "intersection_list = list(intersection)\n",
    "test_intersection = intersection_list[:100]\n",
    "len(intersection_list)"
   ],
   "metadata": {
    "collapsed": false,
    "ExecuteTime": {
     "end_time": "2024-05-24T09:30:41.823183Z",
     "start_time": "2024-05-24T09:30:41.799234Z"
    }
   },
   "id": "fd9ab6f978c91a21"
  },
  {
   "cell_type": "code",
   "execution_count": 36,
   "outputs": [
    {
     "name": "stdout",
     "output_type": "stream",
     "text": [
      "已知二次函数$$y=m{{x}^{2}}-2mx-3$$（$$m$$是实数）．甲求得当$$x=1$$时，$$y=1$$；乙求得当$$x=\\frac{1}{2}$$时，$$y=\\frac{1}{2}$$．若甲求得的结果正确，你认为乙求得的结果正确吗？说明理由．写出二次函数的对称轴，并求出该函数的最值（用含$$m$$的代数式表示）．图象上有两点$$P\\left( {{x}_{1}},p \\right)$$和$$Q\\left( {{x}_{2}},q \\right)$$，若$${{x}_{1}} <1< {{x}_{2}}$$，$${{x}_{1}}+{{x}_{2}}>2$$，试比较$$p$$和$$q$$的大小关系． 已知二次函数$y = mx^2 - 2mx - 3$（$m$是实数）．甲求得当$x = 1$时，$y = 1$；乙求得当$x = \\frac{1}{2}$时，$y = \\frac{1}{2}$．若甲求得的结果正确，你认为乙求得的结果正确吗？说明理由．写出二次函数的对称轴，并求出该函数的最值（用含$m$的代数式表示）．图象上有两点$Pleft( {{x}_{1}},p \\right)$和$Qleft( {{x}_{2}},q \\right)$，若${{x}_{1}} <1< {{x}_{2}}$，${{x}_{1}} + {{x}_{2}} > 2$，试比较$p$和$q$的大小关系．\n",
      "已知二次函数是实数甲求得当时乙求得当时若甲求得的结果正确你认为乙求得的结果正确吗说明理由写出二次函数的对称轴并求出该函数的最值用含的代数式表示图象上有两点和若试比较和的大小关系 已知二次函数是实数甲求得当时乙求得当时若甲求得的结果正确你认为乙求得的结果正确吗说明理由写出二次函数的对称轴并求出该函数的最值用含的代数式表示图象上有两点和若试比较和的大小关系\n"
     ]
    }
   ],
   "source": [
    "# def remove_symbols(text):\n",
    "# \t# 移除所有非字母和非数字字符\n",
    "# \ttext = re.sub(r'\\$\\$', '$', text)\n",
    "# \t#remove 两个$之间的\n",
    "# \ttext = re.sub(r'\\$[^\\$]*\\$', '', text)\n",
    "# \t# text = re.sub(r'\\\\\\\\[a-zA-Z]+\\\\\\\\', '', text)\n",
    "# \ttext = text.replace('_', '')\n",
    "# \ttext = re.sub(r'[^\\w\\u4e00-\\u9fff]', '', text)\n",
    "# \n",
    "# \treturn text\n",
    "# i = \"d7291b38e95b4a39892e95e1a6c82f62_28\"\n",
    "# data1_content = exam_problem2data1[i]\n",
    "# data2_content = exam_problem2data2[i]\n",
    "# q_main_list1 = get_q_main_for_xes_clean(data1_content)\n",
    "# q_main_list2 = get_q_main(data2_content)\n",
    "# print(q_main_list1, q_main_list2)\n",
    "# text1 = remove_symbols(q_main_list1)\n",
    "# text2 = remove_symbols(q_main_list2)\n",
    "# print(text1, text2)"
   ],
   "metadata": {
    "collapsed": false,
    "ExecuteTime": {
     "end_time": "2024-05-24T10:48:52.215272Z",
     "start_time": "2024-05-24T10:48:52.170283Z"
    }
   },
   "id": "11c830a9c821c858"
  },
  {
   "cell_type": "code",
   "execution_count": 46,
   "outputs": [
    {
     "name": "stderr",
     "output_type": "stream",
     "text": [
      "0it [00:00, ?it/s]\n",
      "100%|██████████| 3848141/3848141 [00:15<00:00, 242872.02it/s]\n"
     ]
    }
   ],
   "source": [
    "import difflib\n",
    "import os\n",
    "import json\n",
    "from concurrent.futures import ThreadPoolExecutor, as_completed\n",
    "from tqdm import tqdm\n",
    "import re\n",
    "from copy import deepcopy\n",
    "\n",
    "\n",
    "def ensure_output(output_path):\n",
    "\t# Initialize output file\n",
    "\tif output_path:\n",
    "\t\t# if not os.path.exists(output_path):\n",
    "\t\t# os.makedirs(os.path.dirname(output_path))\n",
    "\t\t# touch output_path\n",
    "\t\twith open(output_path, 'w', encoding='utf-8') as file:\n",
    "\t\t\tpass\n",
    "\n",
    "\n",
    "def remove_symbols(text):\n",
    "\t# # 移除所有非字母和非数字字符\n",
    "\t# text = re.sub(r'\\$\\$', '$', text)\n",
    "\t# #remove 两个$之间的\n",
    "\t# text = re.sub(r'\\$[^\\$]*\\$', '', text)\n",
    "\t# # text = re.sub(r'\\\\\\\\[a-zA-Z]+\\\\\\\\', '', text)\n",
    "\t# text = text.replace('_', '')\n",
    "\t# text = re.sub(r'[^\\w\\u4e00-\\u9fff]', '', text)\n",
    "\tpattern = re.compile(r'[\\u4e00-\\u9fa5]+')\n",
    "\treturn ''.join(pattern.findall(text))\n",
    "\n",
    "\n",
    "\n",
    "def get_q_main_for_xes_clean(content):\n",
    "\tquestion_list = content['ori']['question_list']\n",
    "\tq_main_str = content['ori']['q_main']\n",
    "\toptions = content['ori']['options']\n",
    "\tres = q_main_str\n",
    "\tfor question in question_list:\n",
    "\t\tres += question\n",
    "\tfor option in options:\n",
    "\t\tres += option\n",
    "\treturn res\n",
    "\n",
    "\n",
    "def get_q_main(content):\n",
    "\tquestion_list = content['question_list']\n",
    "\tq_main_str = content['q_main']\n",
    "\toptions = content['options']\n",
    "\tres = q_main_str\n",
    "\tfor question in question_list:\n",
    "\t\tres += question\n",
    "\tfor option in options:\n",
    "\t\tres += option\n",
    "\treturn res\n",
    "\n",
    "\n",
    "def calculate_similarity_and_diff(content1, content2):\n",
    "\t# Extract q_main fields\n",
    "\tq_main_list1 = get_q_main_for_xes_clean(content1)\n",
    "\tq_main_list2 = get_q_main(content2)\n",
    "\n",
    "\t# Join q_main fields to form a single string for comparison\n",
    "\ttext1 = deepcopy(q_main_list1)\n",
    "\ttext2 = deepcopy(q_main_list2)\n",
    "\t# print(text1, text2)\n",
    "\t# Remove symbols from text\n",
    "\ttext1 = remove_symbols(text1)\n",
    "\ttext2 = remove_symbols(text2)\n",
    "\t# print(text1, text2)\n",
    "\t# Calculate similarity\n",
    "\tsimilarity = difflib.SequenceMatcher(None, text1, text2).ratio()\n",
    "\n",
    "\t# Calculate differences\n",
    "\tdiff = list(difflib.unified_diff(text1.splitlines(), text2.splitlines(), lineterm=''))\n",
    "\n",
    "\treturn similarity, diff, q_main_list1, q_main_list2, text1, text2\n",
    "\n",
    "\n",
    "def process_intersection(intersection_id, visited, output_path):\n",
    "\tif intersection_id in visited:\n",
    "\t\treturn None\n",
    "\n",
    "\tdata1_content = exam_problem2data1[intersection_id]\n",
    "\tdata2_content = exam_problem2data2[intersection_id]\n",
    "\n",
    "\tsimilarity, diff, q_main1, q_main2, text1, text2 = calculate_similarity_and_diff(data1_content, data2_content)\n",
    "\tif similarity < 0.9 and len(text1)<len(text2):\n",
    "\t\tres_dict = {\n",
    "\t\t\t'exam_id': data2_content['exam_id'],\n",
    "\t\t\t'problem_id': data2_content['problem_id'],\n",
    "\t\t\t'similarity': similarity,\n",
    "\t\t\t'diff': diff,\n",
    "\t\t\t'q_main1': q_main1,\n",
    "\t\t\t'q_main2': q_main2,\n",
    "\t\t\t'text1': text1,\n",
    "\t\t\t'text2': text2,\n",
    "\t\t\t\"data1\": data1_content,\n",
    "\t\t\t\"data2\": data2_content\n",
    "\t\t}\n",
    "\n",
    "\t\twith open(output_path, 'a', encoding='utf-8') as file:\n",
    "\t\t\tfile.write(json.dumps(res_dict, ensure_ascii=False) + '\\n')\n",
    "\n",
    "\t\treturn res_dict\n",
    "\n",
    "\treturn None\n",
    "\n",
    "\n",
    "# Ensure output file exists\n",
    "# output_path = 'output.jsonl'\n",
    "# os.makedirs(os.path.dirname(output_path), exist_ok=True)\n",
    "# # Touch output file\n",
    "# open(output_path, 'w').close()\n",
    "\n",
    "visited = set()\n",
    "all_differences = []\n",
    "ensure_output(output_path)\n",
    "# Load already visited IDs from output file if exists\n",
    "if os.path.exists(output_path):\n",
    "\twith open(output_path, 'r', encoding='utf-8') as file:\n",
    "\t\tfor line in tqdm(file):\n",
    "\t\t\tres_dict = json.loads(line)\n",
    "\t\t\t# print(res_dict)\n",
    "\t\t\texam_id = res_dict[\"data1\"]['exam_id']\n",
    "\t\t\tproblem_id = res_dict[\"data1\"]['problem_id']\n",
    "\t\t\tvisited.add(f\"{exam_id}_{problem_id}\")\n",
    "\n",
    "# Use ThreadPoolExecutor for multithreading\n",
    "with ThreadPoolExecutor(max_workers=10) as executor:\n",
    "\tfutures = {executor.submit(process_intersection, intersection_id, visited, output_path): intersection_id for\n",
    "\t\t\t   intersection_id in intersection_list}\n",
    "\n",
    "\tfor future in tqdm(as_completed(futures), total=len(futures)):\n",
    "\t\tresult = future.result()\n",
    "\t\tif result is not None:\n",
    "\t\t\tall_differences.append(result)\n",
    "\n",
    "# Optionally do something with all_differences list\n"
   ],
   "metadata": {
    "collapsed": false,
    "ExecuteTime": {
     "end_time": "2024-05-24T11:48:44.092679Z",
     "start_time": "2024-05-24T11:34:29.656660Z"
    }
   },
   "id": "e52451d8ed6e4601"
  },
  {
   "cell_type": "code",
   "execution_count": 49,
   "outputs": [
    {
     "name": "stderr",
     "output_type": "stream",
     "text": [
      "1254it [00:00, 7520.87it/s]"
     ]
    },
    {
     "name": "stdout",
     "output_type": "stream",
     "text": [
      "('英语', '完形填空题')\n",
      "('数学', '填空题')\n",
      "('语文', '名著阅读题')\n",
      "('历史', '材料题')\n",
      "('语文', '文言文题')\n",
      "('数学', '解答题')\n",
      "('语文', '综合性学习题')\n",
      "('语文', '现代文阅读题')\n",
      "('政治', '材料题')\n",
      "('英语', '阅读理解题')\n",
      "('英语', '语法填空题')\n",
      "('化学', '填空题')\n",
      "('语文', '基础知识题')\n",
      "('化学', '简答题')\n",
      "('数学', '单选题')\n",
      "('物理', '解答题')\n",
      "('物理', '计算题')\n",
      "('语文', '古代诗歌题')\n",
      "('英语', '单选题')\n",
      "('英语', '补全对话题')\n",
      "('化学', '单选题')\n",
      "('英语', '简答题')\n",
      "('生物', '单选题')\n",
      "('英语', '填空题')\n",
      "('语文', '默写题')\n",
      "('数学', '选择题')\n",
      "('英语', '信息匹配题')\n",
      "('数学', '多选题')\n",
      "('数学', '计算题')\n",
      "('英语', '改错题')\n",
      "('英语', '书面表达题')\n",
      "('历史', '填空题')\n",
      "('地理', '材料题')\n",
      "('物理', '填空题')\n",
      "('英语', '适当形式填空题')\n",
      "('物理', '单选题')\n",
      "('英语', '句型转换题')\n",
      "('英语', '多选题')\n",
      "('历史', '单选题')\n",
      "('地理', '单选题')\n",
      "('科学', '填空题')\n",
      "('科学', '解答题')\n",
      "('英语', '翻译题')\n",
      "('英语', '首字母填空题')\n",
      "('政治', '填空题')\n",
      "('英语', '语法选择题')\n",
      "('英语', '排序题')\n",
      "('科学', '单选题')\n",
      "('英语', '完成句子题')\n",
      "('政治', '单选题')\n",
      "Processing completed and results saved to example_diff_diff_xes_clean_0524.jsonl.jsonl\n",
      "Counter results: Counter({('数学', '解答题'): 324, ('历史', '材料题'): 173, ('政治', '材料题'): 120, ('数学', '填空题'): 80, ('英语', '语法填空题'): 61, ('语文', '现代文阅读题'): 60, ('英语', '阅读理解题'): 60, ('化学', '填空题'): 51, ('语文', '综合性学习题'): 38, ('语文', '文言文题'): 32, ('英语', '填空题'): 26, ('语文', '基础知识题'): 24, ('英语', '完形填空题'): 19, ('语文', '名著阅读题'): 17, ('英语', '单选题'): 14, ('化学', '单选题'): 14, ('数学', '单选题'): 13, ('化学', '简答题'): 12, ('英语', '简答题'): 10, ('英语', '信息匹配题'): 10, ('数学', '多选题'): 9, ('语文', '古代诗歌题'): 7, ('英语', '补全对话题'): 7, ('数学', '计算题'): 7, ('英语', '书面表达题'): 7, ('语文', '默写题'): 6, ('物理', '解答题'): 5, ('数学', '选择题'): 5, ('地理', '材料题'): 5, ('生物', '单选题'): 4, ('英语', '改错题'): 4, ('英语', '句型转换题'): 4, ('英语', '语法选择题'): 3, ('物理', '计算题'): 2, ('物理', '填空题'): 2, ('地理', '单选题'): 2, ('科学', '填空题'): 2, ('科学', '解答题'): 2, ('英语', '排序题'): 2, ('历史', '填空题'): 1, ('英语', '适当形式填空题'): 1, ('物理', '单选题'): 1, ('英语', '多选题'): 1, ('历史', '单选题'): 1, ('英语', '翻译题'): 1, ('英语', '首字母填空题'): 1, ('政治', '填空题'): 1, ('科学', '单选题'): 1, ('英语', '完成句子题'): 1, ('政治', '单选题'): 1})\n"
     ]
    },
    {
     "name": "stderr",
     "output_type": "stream",
     "text": [
      "\n"
     ]
    }
   ],
   "source": [
    "import os\n",
    "import json\n",
    "from collections import Counter, defaultdict\n",
    "from tqdm import tqdm\n",
    "\n",
    "example_diff_path = f\"example_diff_{os.path.basename(output_path)}.jsonl\"\n",
    "# output_path = \"output/diff.jsonl\"\n",
    "result_example_diff = []\n",
    "\n",
    "if os.path.exists(output_path):\n",
    "\tcounter = Counter()\n",
    "\texample_diff_dict = defaultdict(list)\n",
    "\n",
    "\twith open(output_path, 'r', encoding='utf-8') as file:\n",
    "\t\trecord_count = 0\n",
    "\t\tfor line in tqdm(file):\n",
    "\t\t\t# if record_count >= 10000:  # 检查是否已达到最大记录数\n",
    "\t\t\t# \tbreak\n",
    "\t\t\trecord_count += 1\n",
    "\t\t\tres_dict = json.loads(line)\n",
    "\t\t\tdd = res_dict['data2']\n",
    "\t\t\tsubject = dd['major']\n",
    "\t\t\tq_type = dd['q_type']\n",
    "\t\t\tcounter[(subject, q_type)] += 1\n",
    "\t\t\texample_diff_dict[(subject, q_type)].append(res_dict)\n",
    "\n",
    "\t# Collect the first example of each (subject, q_type) combination\n",
    "\tfor key, value in example_diff_dict.items():\n",
    "\t\tresult_example_diff.append(value[0])  # Assuming you want the first occurrence\n",
    "\t\tprint(key)\n",
    "\t# Optionally, save the result to a file\n",
    "\twith open(example_diff_path, 'w', encoding='utf-8') as outfile:\n",
    "\t\tfor item in result_example_diff:\n",
    "\t\t\toutfile.write(json.dumps(item, ensure_ascii=False) + '\\n')\n",
    "\n",
    "\tprint(\"Processing completed and results saved to\", example_diff_path)\n",
    "\tprint(\"Counter results:\", counter)\n",
    "\n"
   ],
   "metadata": {
    "collapsed": false,
    "ExecuteTime": {
     "end_time": "2024-05-24T11:57:59.711840Z",
     "start_time": "2024-05-24T11:57:59.533071Z"
    }
   },
   "id": "a2941ce5dc17ff56"
  },
  {
   "cell_type": "code",
   "execution_count": null,
   "outputs": [],
   "source": [],
   "metadata": {
    "collapsed": false
   },
   "id": "67ffaeab29cfe59d"
  }
 ],
 "metadata": {
  "kernelspec": {
   "display_name": "Python 3",
   "language": "python",
   "name": "python3"
  },
  "language_info": {
   "codemirror_mode": {
    "name": "ipython",
    "version": 2
   },
   "file_extension": ".py",
   "mimetype": "text/x-python",
   "name": "python",
   "nbconvert_exporter": "python",
   "pygments_lexer": "ipython2",
   "version": "2.7.6"
  }
 },
 "nbformat": 4,
 "nbformat_minor": 5
}
